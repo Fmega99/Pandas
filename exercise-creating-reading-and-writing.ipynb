{
 "cells": [
  {
   "cell_type": "markdown",
   "id": "05e3d419",
   "metadata": {
    "papermill": {
     "duration": 0.006185,
     "end_time": "2022-08-06T13:10:17.655340",
     "exception": false,
     "start_time": "2022-08-06T13:10:17.649155",
     "status": "completed"
    },
    "tags": []
   },
   "source": [
    "**This notebook is an exercise in the [Pandas](https://www.kaggle.com/learn/pandas) course.  You can reference the tutorial at [this link](https://www.kaggle.com/residentmario/creating-reading-and-writing).**\n",
    "\n",
    "---\n"
   ]
  },
  {
   "cell_type": "markdown",
   "id": "69a3ef4e",
   "metadata": {
    "papermill": {
     "duration": 0.004632,
     "end_time": "2022-08-06T13:10:17.665156",
     "exception": false,
     "start_time": "2022-08-06T13:10:17.660524",
     "status": "completed"
    },
    "tags": []
   },
   "source": [
    "# Introduction\n",
    "\n",
    "The first step in most data analytics projects is reading the data file. In this exercise, you'll create Series and DataFrame objects, both by hand and by reading data files.\n",
    "\n",
    "Run the code cell below to load libraries you will need (including code to check your answers)."
   ]
  },
  {
   "cell_type": "code",
   "execution_count": 1,
   "id": "d2eca786",
   "metadata": {
    "execution": {
     "iopub.execute_input": "2022-08-06T13:10:17.677423Z",
     "iopub.status.busy": "2022-08-06T13:10:17.676929Z",
     "iopub.status.idle": "2022-08-06T13:10:19.245458Z",
     "shell.execute_reply": "2022-08-06T13:10:19.243634Z"
    },
    "papermill": {
     "duration": 1.578969,
     "end_time": "2022-08-06T13:10:19.249082",
     "exception": false,
     "start_time": "2022-08-06T13:10:17.670113",
     "status": "completed"
    },
    "tags": []
   },
   "outputs": [
    {
     "name": "stdout",
     "output_type": "stream",
     "text": [
      "Setup complete.\n"
     ]
    }
   ],
   "source": [
    "import pandas as pd\n",
    "pd.set_option('max_rows', 5)\n",
    "from learntools.core import binder; binder.bind(globals())\n",
    "from learntools.pandas.creating_reading_and_writing import *\n",
    "print(\"Setup complete.\")"
   ]
  },
  {
   "cell_type": "markdown",
   "id": "6c84881d",
   "metadata": {
    "papermill": {
     "duration": 0.005563,
     "end_time": "2022-08-06T13:10:19.261090",
     "exception": false,
     "start_time": "2022-08-06T13:10:19.255527",
     "status": "completed"
    },
    "tags": []
   },
   "source": [
    "# Exercises"
   ]
  },
  {
   "cell_type": "markdown",
   "id": "291d7287",
   "metadata": {
    "papermill": {
     "duration": 0.005289,
     "end_time": "2022-08-06T13:10:19.271838",
     "exception": false,
     "start_time": "2022-08-06T13:10:19.266549",
     "status": "completed"
    },
    "tags": []
   },
   "source": [
    "## 1.\n",
    "\n",
    "In the cell below, create a DataFrame `fruits` that looks like this:\n",
    "\n",
    "![](https://i.imgur.com/Ax3pp2A.png)"
   ]
  },
  {
   "cell_type": "code",
   "execution_count": 2,
   "id": "3fc93165",
   "metadata": {
    "execution": {
     "iopub.execute_input": "2022-08-06T13:10:19.285053Z",
     "iopub.status.busy": "2022-08-06T13:10:19.284121Z",
     "iopub.status.idle": "2022-08-06T13:10:19.295657Z",
     "shell.execute_reply": "2022-08-06T13:10:19.294017Z"
    },
    "papermill": {
     "duration": 0.021442,
     "end_time": "2022-08-06T13:10:19.298677",
     "exception": false,
     "start_time": "2022-08-06T13:10:19.277235",
     "status": "completed"
    },
    "tags": []
   },
   "outputs": [
    {
     "name": "stdout",
     "output_type": "stream",
     "text": [
      "   Apple  Bananas\n",
      "0     30       21\n"
     ]
    }
   ],
   "source": [
    "import pandas as pd\n",
    "fruits = pd.DataFrame({'Apple' : [30] , 'Bananas' : [21]})\n",
    "print(fruits)"
   ]
  },
  {
   "cell_type": "code",
   "execution_count": 3,
   "id": "371a018c",
   "metadata": {
    "execution": {
     "iopub.execute_input": "2022-08-06T13:10:19.311095Z",
     "iopub.status.busy": "2022-08-06T13:10:19.310666Z",
     "iopub.status.idle": "2022-08-06T13:10:19.315795Z",
     "shell.execute_reply": "2022-08-06T13:10:19.314170Z"
    },
    "papermill": {
     "duration": 0.014476,
     "end_time": "2022-08-06T13:10:19.318496",
     "exception": false,
     "start_time": "2022-08-06T13:10:19.304020",
     "status": "completed"
    },
    "tags": []
   },
   "outputs": [],
   "source": [
    "#q1.hint()\n",
    "#q1.solution()"
   ]
  },
  {
   "cell_type": "markdown",
   "id": "f3c6a83c",
   "metadata": {
    "papermill": {
     "duration": 0.005308,
     "end_time": "2022-08-06T13:10:19.329276",
     "exception": false,
     "start_time": "2022-08-06T13:10:19.323968",
     "status": "completed"
    },
    "tags": []
   },
   "source": [
    "## 2.\n",
    "\n",
    "Create a dataframe `fruit_sales` that matches the diagram below:\n",
    "\n",
    "![](https://i.imgur.com/CHPn7ZF.png)"
   ]
  },
  {
   "cell_type": "code",
   "execution_count": 4,
   "id": "9e9e0711",
   "metadata": {
    "execution": {
     "iopub.execute_input": "2022-08-06T13:10:19.342472Z",
     "iopub.status.busy": "2022-08-06T13:10:19.341623Z",
     "iopub.status.idle": "2022-08-06T13:10:19.351924Z",
     "shell.execute_reply": "2022-08-06T13:10:19.349798Z"
    },
    "papermill": {
     "duration": 0.020836,
     "end_time": "2022-08-06T13:10:19.355484",
     "exception": false,
     "start_time": "2022-08-06T13:10:19.334648",
     "status": "completed"
    },
    "tags": []
   },
   "outputs": [
    {
     "name": "stdout",
     "output_type": "stream",
     "text": [
      "            Apples  Bananas\n",
      "2017 Sales      35       21\n",
      "2018 sales      41       34\n"
     ]
    }
   ],
   "source": [
    "# Your code goes here. Create a dataframe matching the above diagram and assign it to the variable fruit_sales.\n",
    "import pandas as pd\n",
    "fruit_sales = pd.DataFrame({'Apples' : [35, 41], 'Bananas' : [21,34]}, index =['2017 Sales', '2018 sales'])\n",
    "\n",
    "# Check your answer\n",
    "print(fruit_sales)"
   ]
  },
  {
   "cell_type": "code",
   "execution_count": 5,
   "id": "2737f821",
   "metadata": {
    "execution": {
     "iopub.execute_input": "2022-08-06T13:10:19.368400Z",
     "iopub.status.busy": "2022-08-06T13:10:19.367965Z",
     "iopub.status.idle": "2022-08-06T13:10:19.372599Z",
     "shell.execute_reply": "2022-08-06T13:10:19.371277Z"
    },
    "papermill": {
     "duration": 0.014201,
     "end_time": "2022-08-06T13:10:19.375134",
     "exception": false,
     "start_time": "2022-08-06T13:10:19.360933",
     "status": "completed"
    },
    "tags": []
   },
   "outputs": [],
   "source": [
    "#q2.hint()\n",
    "#q2.solution()"
   ]
  },
  {
   "cell_type": "markdown",
   "id": "a88873c0",
   "metadata": {
    "papermill": {
     "duration": 0.005071,
     "end_time": "2022-08-06T13:10:19.385572",
     "exception": false,
     "start_time": "2022-08-06T13:10:19.380501",
     "status": "completed"
    },
    "tags": []
   },
   "source": [
    "## 3.\n",
    "\n",
    "Create a variable `ingredients` with a Series that looks like:\n",
    "\n",
    "```\n",
    "Flour     4 cups\n",
    "Milk       1 cup\n",
    "Eggs     2 large\n",
    "Spam       1 can\n",
    "Name: Dinner, dtype: object\n",
    "```"
   ]
  },
  {
   "cell_type": "code",
   "execution_count": 6,
   "id": "5066c18e",
   "metadata": {
    "execution": {
     "iopub.execute_input": "2022-08-06T13:10:19.398906Z",
     "iopub.status.busy": "2022-08-06T13:10:19.397675Z",
     "iopub.status.idle": "2022-08-06T13:10:19.406653Z",
     "shell.execute_reply": "2022-08-06T13:10:19.405241Z"
    },
    "papermill": {
     "duration": 0.018087,
     "end_time": "2022-08-06T13:10:19.409055",
     "exception": false,
     "start_time": "2022-08-06T13:10:19.390968",
     "status": "completed"
    },
    "tags": []
   },
   "outputs": [
    {
     "name": "stdout",
     "output_type": "stream",
     "text": [
      "Flour     4 cups\n",
      "Milk       1 cup\n",
      "Eggs     2 large\n",
      "Spam       1 can\n",
      "Name: Dinner, dtype: object\n"
     ]
    }
   ],
   "source": [
    "import pandas as pd\n",
    "ingredients = pd.Series(['4 cups', '1 cup', '2 large', '1 can'], index = ['Flour', 'Milk', 'Eggs', 'Spam'], name ='Dinner')\n",
    "\n",
    "# Check your answer\n",
    "print(ingredients)"
   ]
  },
  {
   "cell_type": "code",
   "execution_count": 7,
   "id": "810277e4",
   "metadata": {
    "execution": {
     "iopub.execute_input": "2022-08-06T13:10:19.422357Z",
     "iopub.status.busy": "2022-08-06T13:10:19.421088Z",
     "iopub.status.idle": "2022-08-06T13:10:19.426576Z",
     "shell.execute_reply": "2022-08-06T13:10:19.425620Z"
    },
    "papermill": {
     "duration": 0.014561,
     "end_time": "2022-08-06T13:10:19.428973",
     "exception": false,
     "start_time": "2022-08-06T13:10:19.414412",
     "status": "completed"
    },
    "tags": []
   },
   "outputs": [],
   "source": [
    "#q3.hint()\n",
    "#q3.solution()"
   ]
  },
  {
   "cell_type": "markdown",
   "id": "ec495226",
   "metadata": {
    "papermill": {
     "duration": 0.005213,
     "end_time": "2022-08-06T13:10:19.439767",
     "exception": false,
     "start_time": "2022-08-06T13:10:19.434554",
     "status": "completed"
    },
    "tags": []
   },
   "source": [
    "## 4.\n",
    "\n",
    "Read the following csv dataset of wine reviews into a DataFrame called `reviews`:\n",
    "\n",
    "![](https://i.imgur.com/74RCZtU.png)\n",
    "\n",
    "The filepath to the csv file is `../input/wine-reviews/winemag-data_first150k.csv`. The first few lines look like:\n",
    "\n",
    "```\n",
    ",country,description,designation,points,price,province,region_1,region_2,variety,winery\n",
    "0,US,\"This tremendous 100% varietal wine[...]\",Martha's Vineyard,96,235.0,California,Napa Valley,Napa,Cabernet Sauvignon,Heitz\n",
    "1,Spain,\"Ripe aromas of fig, blackberry and[...]\",Carodorum Selección Especial Reserva,96,110.0,Northern Spain,Toro,,Tinta de Toro,Bodega Carmen Rodríguez\n",
    "```"
   ]
  },
  {
   "cell_type": "code",
   "execution_count": 8,
   "id": "8d48230f",
   "metadata": {
    "execution": {
     "iopub.execute_input": "2022-08-06T13:10:19.453757Z",
     "iopub.status.busy": "2022-08-06T13:10:19.453328Z",
     "iopub.status.idle": "2022-08-06T13:10:20.357569Z",
     "shell.execute_reply": "2022-08-06T13:10:20.356163Z"
    },
    "papermill": {
     "duration": 0.915083,
     "end_time": "2022-08-06T13:10:20.360680",
     "exception": false,
     "start_time": "2022-08-06T13:10:19.445597",
     "status": "completed"
    },
    "tags": []
   },
   "outputs": [
    {
     "data": {
      "text/html": [
       "<div>\n",
       "<style scoped>\n",
       "    .dataframe tbody tr th:only-of-type {\n",
       "        vertical-align: middle;\n",
       "    }\n",
       "\n",
       "    .dataframe tbody tr th {\n",
       "        vertical-align: top;\n",
       "    }\n",
       "\n",
       "    .dataframe thead th {\n",
       "        text-align: right;\n",
       "    }\n",
       "</style>\n",
       "<table border=\"1\" class=\"dataframe\">\n",
       "  <thead>\n",
       "    <tr style=\"text-align: right;\">\n",
       "      <th></th>\n",
       "      <th>Unnamed: 0</th>\n",
       "      <th>country</th>\n",
       "      <th>description</th>\n",
       "      <th>designation</th>\n",
       "      <th>points</th>\n",
       "      <th>price</th>\n",
       "      <th>province</th>\n",
       "      <th>region_1</th>\n",
       "      <th>region_2</th>\n",
       "      <th>variety</th>\n",
       "      <th>winery</th>\n",
       "    </tr>\n",
       "  </thead>\n",
       "  <tbody>\n",
       "    <tr>\n",
       "      <th>0</th>\n",
       "      <td>0</td>\n",
       "      <td>US</td>\n",
       "      <td>This tremendous 100% varietal wine hails from ...</td>\n",
       "      <td>Martha's Vineyard</td>\n",
       "      <td>96</td>\n",
       "      <td>235.0</td>\n",
       "      <td>California</td>\n",
       "      <td>Napa Valley</td>\n",
       "      <td>Napa</td>\n",
       "      <td>Cabernet Sauvignon</td>\n",
       "      <td>Heitz</td>\n",
       "    </tr>\n",
       "    <tr>\n",
       "      <th>1</th>\n",
       "      <td>1</td>\n",
       "      <td>Spain</td>\n",
       "      <td>Ripe aromas of fig, blackberry and cassis are ...</td>\n",
       "      <td>Carodorum Selección Especial Reserva</td>\n",
       "      <td>96</td>\n",
       "      <td>110.0</td>\n",
       "      <td>Northern Spain</td>\n",
       "      <td>Toro</td>\n",
       "      <td>NaN</td>\n",
       "      <td>Tinta de Toro</td>\n",
       "      <td>Bodega Carmen Rodríguez</td>\n",
       "    </tr>\n",
       "    <tr>\n",
       "      <th>2</th>\n",
       "      <td>2</td>\n",
       "      <td>US</td>\n",
       "      <td>Mac Watson honors the memory of a wine once ma...</td>\n",
       "      <td>Special Selected Late Harvest</td>\n",
       "      <td>96</td>\n",
       "      <td>90.0</td>\n",
       "      <td>California</td>\n",
       "      <td>Knights Valley</td>\n",
       "      <td>Sonoma</td>\n",
       "      <td>Sauvignon Blanc</td>\n",
       "      <td>Macauley</td>\n",
       "    </tr>\n",
       "    <tr>\n",
       "      <th>3</th>\n",
       "      <td>3</td>\n",
       "      <td>US</td>\n",
       "      <td>This spent 20 months in 30% new French oak, an...</td>\n",
       "      <td>Reserve</td>\n",
       "      <td>96</td>\n",
       "      <td>65.0</td>\n",
       "      <td>Oregon</td>\n",
       "      <td>Willamette Valley</td>\n",
       "      <td>Willamette Valley</td>\n",
       "      <td>Pinot Noir</td>\n",
       "      <td>Ponzi</td>\n",
       "    </tr>\n",
       "    <tr>\n",
       "      <th>4</th>\n",
       "      <td>4</td>\n",
       "      <td>France</td>\n",
       "      <td>This is the top wine from La Bégude, named aft...</td>\n",
       "      <td>La Brûlade</td>\n",
       "      <td>95</td>\n",
       "      <td>66.0</td>\n",
       "      <td>Provence</td>\n",
       "      <td>Bandol</td>\n",
       "      <td>NaN</td>\n",
       "      <td>Provence red blend</td>\n",
       "      <td>Domaine de la Bégude</td>\n",
       "    </tr>\n",
       "  </tbody>\n",
       "</table>\n",
       "</div>"
      ],
      "text/plain": [
       "   Unnamed: 0 country                                        description  \\\n",
       "0           0      US  This tremendous 100% varietal wine hails from ...   \n",
       "1           1   Spain  Ripe aromas of fig, blackberry and cassis are ...   \n",
       "2           2      US  Mac Watson honors the memory of a wine once ma...   \n",
       "3           3      US  This spent 20 months in 30% new French oak, an...   \n",
       "4           4  France  This is the top wine from La Bégude, named aft...   \n",
       "\n",
       "                            designation  points  price        province  \\\n",
       "0                     Martha's Vineyard      96  235.0      California   \n",
       "1  Carodorum Selección Especial Reserva      96  110.0  Northern Spain   \n",
       "2         Special Selected Late Harvest      96   90.0      California   \n",
       "3                               Reserve      96   65.0          Oregon   \n",
       "4                            La Brûlade      95   66.0        Provence   \n",
       "\n",
       "            region_1           region_2             variety  \\\n",
       "0        Napa Valley               Napa  Cabernet Sauvignon   \n",
       "1               Toro                NaN       Tinta de Toro   \n",
       "2     Knights Valley             Sonoma     Sauvignon Blanc   \n",
       "3  Willamette Valley  Willamette Valley          Pinot Noir   \n",
       "4             Bandol                NaN  Provence red blend   \n",
       "\n",
       "                    winery  \n",
       "0                    Heitz  \n",
       "1  Bodega Carmen Rodríguez  \n",
       "2                 Macauley  \n",
       "3                    Ponzi  \n",
       "4     Domaine de la Bégude  "
      ]
     },
     "execution_count": 8,
     "metadata": {},
     "output_type": "execute_result"
    }
   ],
   "source": [
    "import pandas as pd\n",
    "reviews = pd.read_csv('../input/wine-reviews/winemag-data_first150k.csv')\n",
    "\n",
    "# Check your answer\n",
    "reviews.head()"
   ]
  },
  {
   "cell_type": "code",
   "execution_count": 9,
   "id": "b5890b0b",
   "metadata": {
    "execution": {
     "iopub.execute_input": "2022-08-06T13:10:20.374826Z",
     "iopub.status.busy": "2022-08-06T13:10:20.374362Z",
     "iopub.status.idle": "2022-08-06T13:10:20.380465Z",
     "shell.execute_reply": "2022-08-06T13:10:20.379294Z"
    },
    "papermill": {
     "duration": 0.016841,
     "end_time": "2022-08-06T13:10:20.383557",
     "exception": false,
     "start_time": "2022-08-06T13:10:20.366716",
     "status": "completed"
    },
    "tags": []
   },
   "outputs": [],
   "source": [
    "#q4.hint()\n",
    "#q4.solution()"
   ]
  },
  {
   "cell_type": "markdown",
   "id": "df7b1d3c",
   "metadata": {
    "papermill": {
     "duration": 0.007044,
     "end_time": "2022-08-06T13:10:20.397610",
     "exception": false,
     "start_time": "2022-08-06T13:10:20.390566",
     "status": "completed"
    },
    "tags": []
   },
   "source": [
    "## 5.\n",
    "\n",
    "Run the cell below to create and display a DataFrame called `animals`:"
   ]
  },
  {
   "cell_type": "code",
   "execution_count": 10,
   "id": "afbe8322",
   "metadata": {
    "execution": {
     "iopub.execute_input": "2022-08-06T13:10:20.411678Z",
     "iopub.status.busy": "2022-08-06T13:10:20.411279Z",
     "iopub.status.idle": "2022-08-06T13:10:20.422671Z",
     "shell.execute_reply": "2022-08-06T13:10:20.421696Z"
    },
    "papermill": {
     "duration": 0.021044,
     "end_time": "2022-08-06T13:10:20.424876",
     "exception": false,
     "start_time": "2022-08-06T13:10:20.403832",
     "status": "completed"
    },
    "tags": []
   },
   "outputs": [
    {
     "data": {
      "text/html": [
       "<div>\n",
       "<style scoped>\n",
       "    .dataframe tbody tr th:only-of-type {\n",
       "        vertical-align: middle;\n",
       "    }\n",
       "\n",
       "    .dataframe tbody tr th {\n",
       "        vertical-align: top;\n",
       "    }\n",
       "\n",
       "    .dataframe thead th {\n",
       "        text-align: right;\n",
       "    }\n",
       "</style>\n",
       "<table border=\"1\" class=\"dataframe\">\n",
       "  <thead>\n",
       "    <tr style=\"text-align: right;\">\n",
       "      <th></th>\n",
       "      <th>Cows</th>\n",
       "      <th>Goats</th>\n",
       "    </tr>\n",
       "  </thead>\n",
       "  <tbody>\n",
       "    <tr>\n",
       "      <th>Year 1</th>\n",
       "      <td>12</td>\n",
       "      <td>22</td>\n",
       "    </tr>\n",
       "    <tr>\n",
       "      <th>Year 2</th>\n",
       "      <td>20</td>\n",
       "      <td>19</td>\n",
       "    </tr>\n",
       "  </tbody>\n",
       "</table>\n",
       "</div>"
      ],
      "text/plain": [
       "        Cows  Goats\n",
       "Year 1    12     22\n",
       "Year 2    20     19"
      ]
     },
     "execution_count": 10,
     "metadata": {},
     "output_type": "execute_result"
    }
   ],
   "source": [
    "animals = pd.DataFrame({'Cows': [12, 20], 'Goats': [22, 19]}, index=['Year 1', 'Year 2'])\n",
    "animals"
   ]
  },
  {
   "cell_type": "markdown",
   "id": "aa06e9d3",
   "metadata": {
    "papermill": {
     "duration": 0.005885,
     "end_time": "2022-08-06T13:10:20.436900",
     "exception": false,
     "start_time": "2022-08-06T13:10:20.431015",
     "status": "completed"
    },
    "tags": []
   },
   "source": [
    "In the cell below, write code to save this DataFrame to disk as a csv file with the name `cows_and_goats.csv`."
   ]
  },
  {
   "cell_type": "code",
   "execution_count": 11,
   "id": "7728d593",
   "metadata": {
    "execution": {
     "iopub.execute_input": "2022-08-06T13:10:20.451100Z",
     "iopub.status.busy": "2022-08-06T13:10:20.450656Z",
     "iopub.status.idle": "2022-08-06T13:10:20.463316Z",
     "shell.execute_reply": "2022-08-06T13:10:20.461451Z"
    },
    "papermill": {
     "duration": 0.022962,
     "end_time": "2022-08-06T13:10:20.465840",
     "exception": false,
     "start_time": "2022-08-06T13:10:20.442878",
     "status": "completed"
    },
    "tags": []
   },
   "outputs": [
    {
     "name": "stdout",
     "output_type": "stream",
     "text": [
      "        Cows  Goats\n",
      "Year 1    12     22\n",
      "Year 2    20     19\n"
     ]
    }
   ],
   "source": [
    "# Your code goes here\n",
    "import pandas as pd\n",
    "animals = pd.DataFrame({'Cows': [12, 20], 'Goats': [22, 19]}, index=['Year 1', 'Year 2'])\n",
    "animals.to_csv(r'cows_and_goats.csv')\n",
    "# Check your answer\n",
    "print(animals)"
   ]
  },
  {
   "cell_type": "code",
   "execution_count": 12,
   "id": "5d18aa8c",
   "metadata": {
    "execution": {
     "iopub.execute_input": "2022-08-06T13:10:20.480574Z",
     "iopub.status.busy": "2022-08-06T13:10:20.479257Z",
     "iopub.status.idle": "2022-08-06T13:10:20.485276Z",
     "shell.execute_reply": "2022-08-06T13:10:20.483765Z"
    },
    "papermill": {
     "duration": 0.016187,
     "end_time": "2022-08-06T13:10:20.488051",
     "exception": false,
     "start_time": "2022-08-06T13:10:20.471864",
     "status": "completed"
    },
    "tags": []
   },
   "outputs": [],
   "source": [
    "#q5.hint()\n",
    "#q5.solution()"
   ]
  },
  {
   "cell_type": "markdown",
   "id": "95b3c436",
   "metadata": {
    "papermill": {
     "duration": 0.006766,
     "end_time": "2022-08-06T13:10:20.501282",
     "exception": false,
     "start_time": "2022-08-06T13:10:20.494516",
     "status": "completed"
    },
    "tags": []
   },
   "source": [
    "# Keep going\n",
    "\n",
    "Move on to learn about **[indexing, selecting and assigning](https://www.kaggle.com/residentmario/indexing-selecting-assigning)**."
   ]
  },
  {
   "cell_type": "markdown",
   "id": "7e017c8e",
   "metadata": {
    "papermill": {
     "duration": 0.006695,
     "end_time": "2022-08-06T13:10:20.515155",
     "exception": false,
     "start_time": "2022-08-06T13:10:20.508460",
     "status": "completed"
    },
    "tags": []
   },
   "source": [
    "---\n",
    "\n",
    "\n",
    "\n",
    "\n",
    "*Have questions or comments? Visit the [course discussion forum](https://www.kaggle.com/learn/pandas/discussion) to chat with other learners.*"
   ]
  }
 ],
 "metadata": {
  "kernelspec": {
   "display_name": "Python 3",
   "language": "python",
   "name": "python3"
  },
  "language_info": {
   "codemirror_mode": {
    "name": "ipython",
    "version": 3
   },
   "file_extension": ".py",
   "mimetype": "text/x-python",
   "name": "python",
   "nbconvert_exporter": "python",
   "pygments_lexer": "ipython3",
   "version": "3.7.12"
  },
  "papermill": {
   "default_parameters": {},
   "duration": 14.522185,
   "end_time": "2022-08-06T13:10:21.244807",
   "environment_variables": {},
   "exception": null,
   "input_path": "__notebook__.ipynb",
   "output_path": "__notebook__.ipynb",
   "parameters": {},
   "start_time": "2022-08-06T13:10:06.722622",
   "version": "2.3.4"
  }
 },
 "nbformat": 4,
 "nbformat_minor": 5
}
